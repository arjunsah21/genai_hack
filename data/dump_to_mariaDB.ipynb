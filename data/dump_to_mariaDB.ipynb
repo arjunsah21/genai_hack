{
 "cells": [
  {
   "cell_type": "code",
   "execution_count": 4,
   "id": "bc969274",
   "metadata": {},
   "outputs": [],
   "source": [
    "import os\n",
    "import pandas as pd\n",
    "import pymysql\n",
    "from sqlalchemy import create_engine\n",
    "\n",
    "# DB connection settings\n",
    "user = 'root'             # your MariaDB username\n",
    "password = 'jksuper'  # your MariaDB password\n",
    "host = '127.0.0.1'         # localhost\n",
    "port = 3300\n",
    "database = 'imdb_db'       # new database you want to create\n",
    "\n",
    "# Folder where your CSVs are present\n",
    "csv_folder = './output_csvs'  # current directory"
   ]
  },
  {
   "cell_type": "code",
   "execution_count": 5,
   "id": "6ab4ea42",
   "metadata": {},
   "outputs": [
    {
     "name": "stdout",
     "output_type": "stream",
     "text": [
      "✅ Database 'imdb_db' created or already exists.\n"
     ]
    }
   ],
   "source": [
    "# Create connection to MariaDB (without database)\n",
    "conn = pymysql.connect(user=user, password=password, host=host, port=port)\n",
    "cursor = conn.cursor()\n",
    "\n",
    "# Create new database\n",
    "cursor.execute(f\"CREATE DATABASE IF NOT EXISTS {database};\")\n",
    "print(f\"✅ Database '{database}' created or already exists.\")"
   ]
  },
  {
   "cell_type": "code",
   "execution_count": 6,
   "id": "39253fc8",
   "metadata": {},
   "outputs": [
    {
     "name": "stdout",
     "output_type": "stream",
     "text": [
      "➡️  Processing Country.csv into table `country`\n",
      "✅ Dumped 34 rows into table `country`.\n",
      "➡️  Processing Genre.csv into table `genre`\n",
      "✅ Dumped 328 rows into table `genre`.\n",
      "➡️  Processing Language.csv into table `language`\n",
      "✅ Dumped 32 rows into table `language`.\n",
      "➡️  Processing Location.csv into table `location`\n",
      "✅ Dumped 559 rows into table `location`.\n",
      "➡️  Processing Movie.csv into table `movie`\n",
      "✅ Dumped 3475 rows into table `movie`.\n",
      "➡️  Processing M_Cast.csv into table `m_cast`\n",
      "✅ Dumped 82837 rows into table `m_cast`.\n",
      "➡️  Processing M_Country.csv into table `m_country`\n",
      "✅ Dumped 3475 rows into table `m_country`.\n",
      "➡️  Processing M_Director.csv into table `m_director`\n",
      "✅ Dumped 3475 rows into table `m_director`.\n",
      "➡️  Processing M_Genre.csv into table `m_genre`\n",
      "✅ Dumped 3475 rows into table `m_genre`.\n",
      "➡️  Processing M_Language.csv into table `m_language`\n",
      "✅ Dumped 3475 rows into table `m_language`.\n",
      "➡️  Processing M_Location.csv into table `m_location`\n",
      "✅ Dumped 3475 rows into table `m_location`.\n",
      "➡️  Processing M_Producer.csv into table `m_producer`\n",
      "✅ Dumped 11751 rows into table `m_producer`.\n",
      "➡️  Processing Person.csv into table `person`\n",
      "✅ Dumped 38285 rows into table `person`.\n",
      "\n",
      "🎯 All CSVs imported successfully!\n"
     ]
    }
   ],
   "source": [
    "# Connect to the newly created database\n",
    "engine = create_engine(f\"mysql+pymysql://{user}:{password}@{host}:{port}/{database}\")\n",
    "conn_db = engine.connect()\n",
    "\n",
    "# Go through all CSV files in the folder\n",
    "for file in os.listdir(csv_folder):\n",
    "    if file.endswith('.csv'):\n",
    "        table_name = os.path.splitext(file)[0].lower()  # table name = filename in lowercase\n",
    "        csv_path = os.path.join(csv_folder, file)\n",
    "        \n",
    "        print(f\"➡️  Processing {file} into table `{table_name}`\")\n",
    "\n",
    "        # Read CSV\n",
    "        df = pd.read_csv(csv_path)\n",
    "\n",
    "        # Dump CSV into MariaDB table\n",
    "        df.to_sql(table_name, con=engine, if_exists='replace', index=False)\n",
    "\n",
    "        print(f\"✅ Dumped {len(df)} rows into table `{table_name}`.\")\n",
    "\n",
    "print(\"\\n🎯 All CSVs imported successfully!\")\n",
    "\n",
    "# Close connections\n",
    "conn_db.close()\n",
    "conn.close()"
   ]
  }
 ],
 "metadata": {
  "kernelspec": {
   "display_name": "Python 3",
   "language": "python",
   "name": "python3"
  },
  "language_info": {
   "codemirror_mode": {
    "name": "ipython",
    "version": 3
   },
   "file_extension": ".py",
   "mimetype": "text/x-python",
   "name": "python",
   "nbconvert_exporter": "python",
   "pygments_lexer": "ipython3",
   "version": "3.11.0"
  }
 },
 "nbformat": 4,
 "nbformat_minor": 5
}
