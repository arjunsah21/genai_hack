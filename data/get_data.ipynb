{
 "cells": [
  {
   "cell_type": "code",
   "execution_count": 2,
   "id": "707fb947",
   "metadata": {},
   "outputs": [
    {
     "name": "stdout",
     "output_type": "stream",
     "text": [
      "Exported Movie to output_csvs\\Movie.csv\n",
      "Exported Genre to output_csvs\\Genre.csv\n",
      "Exported Language to output_csvs\\Language.csv\n",
      "Exported Country to output_csvs\\Country.csv\n",
      "Exported Location to output_csvs\\Location.csv\n",
      "Exported M_Location to output_csvs\\M_Location.csv\n",
      "Exported M_Country to output_csvs\\M_Country.csv\n",
      "Exported M_Language to output_csvs\\M_Language.csv\n",
      "Exported M_Genre to output_csvs\\M_Genre.csv\n",
      "Exported Person to output_csvs\\Person.csv\n",
      "Exported M_Producer to output_csvs\\M_Producer.csv\n",
      "Exported M_Director to output_csvs\\M_Director.csv\n",
      "Exported M_Cast to output_csvs\\M_Cast.csv\n"
     ]
    }
   ],
   "source": [
    "import sqlite3\n",
    "import pandas as pd\n",
    "import os\n",
    "\n",
    "# Paths\n",
    "db_path = 'Db-IMDB.db'  # <-- your SQLite .db file\n",
    "output_folder = 'output_csvs'  # Folder to save CSVs\n",
    "\n",
    "# Create output folder if it doesn't exist\n",
    "os.makedirs(output_folder, exist_ok=True)\n",
    "\n",
    "# Connect to SQLite database\n",
    "conn = sqlite3.connect(db_path)\n",
    "cursor = conn.cursor()\n",
    "\n",
    "# Get all table names\n",
    "cursor.execute(\"SELECT name FROM sqlite_master WHERE type='table';\")\n",
    "tables = cursor.fetchall()\n",
    "\n",
    "# Export each table to CSV\n",
    "for table in tables:\n",
    "    table_name = table[0]\n",
    "    df = pd.read_sql_query(f\"SELECT * FROM {table_name};\", conn)\n",
    "    csv_path = os.path.join(output_folder, f\"{table_name}.csv\")\n",
    "    df.to_csv(csv_path, index=False)\n",
    "    print(f\"Exported {table_name} to {csv_path}\")\n",
    "\n",
    "conn.close()\n"
   ]
  }
 ],
 "metadata": {
  "kernelspec": {
   "display_name": "Python 3",
   "language": "python",
   "name": "python3"
  },
  "language_info": {
   "codemirror_mode": {
    "name": "ipython",
    "version": 3
   },
   "file_extension": ".py",
   "mimetype": "text/x-python",
   "name": "python",
   "nbconvert_exporter": "python",
   "pygments_lexer": "ipython3",
   "version": "3.11.0"
  }
 },
 "nbformat": 4,
 "nbformat_minor": 5
}
